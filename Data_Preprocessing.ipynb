{
 "cells": [
  {
   "cell_type": "code",
   "execution_count": 1,
   "metadata": {},
   "outputs": [
    {
     "name": "stdout",
     "output_type": "stream",
     "text": [
      "Duplicates removed and cleaned CSV saved!\n"
     ]
    }
   ],
   "source": [
    "import pandas as pd\n",
    "\n",
    "# Load CSV\n",
    "df = pd.read_csv(\"olist_customers_dataset.csv\")\n",
    "\n",
    "# Remove duplicates based on unique key\n",
    "df = df.drop_duplicates(subset=['customer_unique_id'])  # Only keep first occurrence\n",
    "\n",
    "# Save cleaned CSV\n",
    "df.to_csv(\"olist_customers_cleaned.csv\", index=False)\n",
    "\n",
    "print(\"Duplicates removed and cleaned CSV saved!\")\n"
   ]
  },
  {
   "cell_type": "code",
   "execution_count": 2,
   "metadata": {},
   "outputs": [
    {
     "name": "stdout",
     "output_type": "stream",
     "text": [
      "Duplicates removed and cleaned CSV saved!\n"
     ]
    }
   ],
   "source": [
    "import pandas as pd\n",
    "\n",
    "# Load CSV\n",
    "df = pd.read_csv(\"olist_geolocation_dataset.csv\")\n",
    "\n",
    "# Remove duplicates based on unique key\n",
    "df = df.drop_duplicates(subset=['geolocation_zip_code_prefix'], keep='first')\n",
    "\n",
    "# Save cleaned CSV\n",
    "df.to_csv(\"olist_geolocation_cleaned.csv\", index=False)\n",
    "\n",
    "print(\"Duplicates removed and cleaned CSV saved!\")"
   ]
  },
  {
   "cell_type": "code",
   "execution_count": 57,
   "metadata": {},
   "outputs": [
    {
     "name": "stdout",
     "output_type": "stream",
     "text": [
      "Duplicates removed and cleaned CSV saved!\n"
     ]
    }
   ],
   "source": [
    "\n",
    "import pandas as pd\n",
    "\n",
    "# Load CSV\n",
    "df = pd.read_csv(\"olist_order_reviews_dataset.csv\")\n",
    "\n",
    "# Remove duplicates based on unique key\n",
    "df = df.drop_duplicates(subset=['order_id'], keep='first')\n",
    "df = df.drop_duplicates(subset=['review_id'], keep='first')\n",
    "\n",
    "# Save cleaned CSV\n",
    "df.to_csv(\"olist_order_reviews_cleaned.csv\", index=False)\n",
    "\n",
    "print(\"Duplicates removed and cleaned CSV saved!\")"
   ]
  },
  {
   "cell_type": "code",
   "execution_count": 17,
   "metadata": {},
   "outputs": [],
   "source": [
    "import numpy as np"
   ]
  },
  {
   "cell_type": "code",
   "execution_count": 49,
   "metadata": {},
   "outputs": [
    {
     "name": "stderr",
     "output_type": "stream",
     "text": [
      "/var/folders/dm/96sqsj094hz20dmjq_lydgwc0000gn/T/ipykernel_46775/2473189524.py:7: FutureWarning: Series.fillna with 'method' is deprecated and will raise in a future version. Use obj.ffill() or obj.bfill() instead.\n",
      "  df['order_delivered_carrier_date'] = df['order_delivered_carrier_date'].fillna(method='ffill')\n",
      "/var/folders/dm/96sqsj094hz20dmjq_lydgwc0000gn/T/ipykernel_46775/2473189524.py:8: FutureWarning: Series.fillna with 'method' is deprecated and will raise in a future version. Use obj.ffill() or obj.bfill() instead.\n",
      "  df['order_delivered_customer_date'] = df['order_delivered_customer_date'].fillna(method='ffill')\n",
      "/var/folders/dm/96sqsj094hz20dmjq_lydgwc0000gn/T/ipykernel_46775/2473189524.py:9: FutureWarning: Series.fillna with 'method' is deprecated and will raise in a future version. Use obj.ffill() or obj.bfill() instead.\n",
      "  df['order_approved_at'] = df['order_approved_at'].fillna(method='ffill')\n",
      "/var/folders/dm/96sqsj094hz20dmjq_lydgwc0000gn/T/ipykernel_46775/2473189524.py:10: FutureWarning: Series.fillna with 'method' is deprecated and will raise in a future version. Use obj.ffill() or obj.bfill() instead.\n",
      "  df['order_purchase_timestamp'] = df['order_purchase_timestamp'].fillna(method='ffill')\n",
      "/var/folders/dm/96sqsj094hz20dmjq_lydgwc0000gn/T/ipykernel_46775/2473189524.py:11: FutureWarning: Series.fillna with 'method' is deprecated and will raise in a future version. Use obj.ffill() or obj.bfill() instead.\n",
      "  df['order_estimated_delivery_date'] = df['order_estimated_delivery_date'].fillna(method='ffill')\n"
     ]
    }
   ],
   "source": [
    "import pandas as pd\n",
    "\n",
    "df_orders=pd.read_csv('olist_orders_dataset.csv')\n",
    "\n",
    "df=df_orders\n",
    "\n",
    "df['order_delivered_carrier_date'] = df['order_delivered_carrier_date'].fillna(method='ffill')\n",
    "df['order_delivered_customer_date'] = df['order_delivered_customer_date'].fillna(method='ffill')\n",
    "df['order_approved_at'] = df['order_approved_at'].fillna(method='ffill')\n",
    "df['order_purchase_timestamp'] = df['order_purchase_timestamp'].fillna(method='ffill')\n",
    "df['order_estimated_delivery_date'] = df['order_estimated_delivery_date'].fillna(method='ffill')\n",
    "\n",
    "\n",
    "# df['order_delivered_carrier_date'] = df['order_delivered_carrier_date'].astype(object)\n",
    "# df.loc[df['order_delivered_carrier_date'].isna(), 'order_delivered_carrier_date'] = None  # Force None for SQL\n",
    "\n"
   ]
  },
  {
   "cell_type": "code",
   "execution_count": 50,
   "metadata": {},
   "outputs": [
    {
     "name": "stdout",
     "output_type": "stream",
     "text": [
      "0\n",
      "['2017-10-04 19:55:00' '2018-07-26 14:31:00' '2018-08-08 13:50:00' ...\n",
      " '2017-08-28 20:52:26' '2018-01-12 15:35:03' '2018-03-09 22:11:59']\n"
     ]
    }
   ],
   "source": [
    "print(df['order_delivered_carrier_date'].isna().sum())  # Should return 0\n",
    "print(df['order_delivered_carrier_date'].unique())  # Should show timestamps & None (not NaN)\n",
    "\n",
    "df.to_csv(\"olist_orders_cleaned.csv\", index=False)\n",
    "\n",
    "list=df['order_delivered_carrier_date'].isna()\n",
    "\n"
   ]
  },
  {
   "cell_type": "code",
   "execution_count": 51,
   "metadata": {},
   "outputs": [],
   "source": [
    "df=pd.read_csv('olist_closed_deals_dataset.csv')"
   ]
  },
  {
   "cell_type": "code",
   "execution_count": 52,
   "metadata": {},
   "outputs": [],
   "source": [
    "df['has_company'] = df['has_company'].apply(lambda x: False if pd.isna(x) else bool(x))\n",
    "\n",
    "df['has_gtin'] = df['has_gtin'].apply(lambda x: False if pd.isna(x) else bool(x))\n"
   ]
  },
  {
   "cell_type": "code",
   "execution_count": 53,
   "metadata": {},
   "outputs": [],
   "source": [
    "df.to_csv(\"olist_closed_deals_cleaned.csv\", index=False)"
   ]
  },
  {
   "cell_type": "code",
   "execution_count": null,
   "metadata": {},
   "outputs": [],
   "source": []
  },
  {
   "cell_type": "code",
   "execution_count": null,
   "metadata": {},
   "outputs": [],
   "source": []
  }
 ],
 "metadata": {
  "kernelspec": {
   "display_name": ".venv",
   "language": "python",
   "name": "python3"
  },
  "language_info": {
   "codemirror_mode": {
    "name": "ipython",
    "version": 3
   },
   "file_extension": ".py",
   "mimetype": "text/x-python",
   "name": "python",
   "nbconvert_exporter": "python",
   "pygments_lexer": "ipython3",
   "version": "3.13.2"
  }
 },
 "nbformat": 4,
 "nbformat_minor": 2
}
